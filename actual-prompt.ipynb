{
 "cells": [
  {
   "cell_type": "markdown",
   "metadata": {
    "id": "CcUT6Fon_qRE"
   },
   "source": [
    "### Required Assignment 5.1: Will the Customer Accept the Coupon?\n",
    "\n",
    "**Context**\n",
    "\n",
    "Imagine driving through town and a coupon is delivered to your cell phone for a restaurant near where you are driving. Would you accept that coupon and take a short detour to the restaurant? Would you accept the coupon but use it on a subsequent trip? Would you ignore the coupon entirely? What if the coupon was for a bar instead of a restaurant? What about a coffee house? Would you accept a bar coupon with a minor passenger in the car? What about if it was just you and your partner in the car? Would weather impact the rate of acceptance? What about the time of day?\n",
    "\n",
    "Obviously, proximity to the business is a factor on whether the coupon is delivered to the driver or not, but what are the factors that determine whether a driver accepts the coupon once it is delivered to them? How would you determine whether a driver is likely to accept a coupon?\n",
    "\n",
    "**Overview**\n",
    "\n",
    "The goal of this project is to use what you know about visualizations and probability distributions to distinguish between customers who accepted a driving coupon versus those that did not.\n",
    "\n",
    "**Data**\n",
    "\n",
    "This data comes to us from the UCI Machine Learning repository and was collected via a survey on Amazon Mechanical Turk. The survey describes different driving scenarios including the destination, current time, weather, passenger, etc., and then ask the person whether he will accept the coupon if he is the driver. Answers that the user will drive there ‘right away’ or ‘later before the coupon expires’ are labeled as ‘Y = 1’ and answers ‘no, I do not want the coupon’ are labeled as ‘Y = 0’.  There are five different types of coupons -- less expensive restaurants (under \\$20), coffee houses, carry out & take away, bar, and more expensive restaurants (\\$20 - $50)."
   ]
  },
  {
   "cell_type": "markdown",
   "metadata": {
    "id": "1wORvMBJ_qRF"
   },
   "source": [
    "**Deliverables**\n",
    "\n",
    "Your final product should be a brief report that highlights the differences between customers who did and did not accept the coupons.  To explore the data you will utilize your knowledge of plotting, statistical summaries, and visualization using Python. You will publish your findings in a public facing github repository as your first portfolio piece.\n",
    "\n",
    "\n",
    "\n"
   ]
  },
  {
   "cell_type": "markdown",
   "metadata": {
    "id": "pG6_Ym6q_qRG"
   },
   "source": [
    "### Data Description\n",
    "Keep in mind that these values mentioned below are average values.\n",
    "\n",
    "The attributes of this data set include:\n",
    "1. User attributes\n",
    "    -  Gender: male, female\n",
    "    -  Age: below 21, 21 to 25, 26 to 30, etc.\n",
    "    -  Marital Status: single, married partner, unmarried partner, or widowed\n",
    "    -  Number of children: 0, 1, or more than 1\n",
    "    -  Education: high school, bachelors degree, associates degree, or graduate degree\n",
    "    -  Occupation: architecture & engineering, business & financial, etc.\n",
    "    -  Annual income: less than \\\\$12500, \\\\$12500 - \\\\$24999, \\\\$25000 - \\\\$37499, etc.\n",
    "    -  Number of times that he/she goes to a bar: 0, less than 1, 1 to 3, 4 to 8 or greater than 8\n",
    "    -  Number of times that he/she buys takeaway food: 0, less than 1, 1 to 3, 4 to 8 or greater\n",
    "    than 8\n",
    "    -  Number of times that he/she goes to a coffee house: 0, less than 1, 1 to 3, 4 to 8 or\n",
    "    greater than 8\n",
    "    -  Number of times that he/she eats at a restaurant with average expense less than \\\\$20 per\n",
    "    person: 0, less than 1, 1 to 3, 4 to 8 or greater than 8\n",
    "    -  Number of times that he/she goes to a bar: 0, less than 1, 1 to 3, 4 to 8 or greater than 8\n",
    "    \n",
    "\n",
    "2. Contextual attributes\n",
    "    - Driving destination: home, work, or no urgent destination\n",
    "    - Location of user, coupon and destination: we provide a map to show the geographical\n",
    "    location of the user, destination, and the venue, and we mark the distance between each\n",
    "    two places with time of driving. The user can see whether the venue is in the same\n",
    "    direction as the destination.\n",
    "    - Weather: sunny, rainy, or snowy\n",
    "    - Temperature: 30F, 55F, or 80F\n",
    "    - Time: 10AM, 2PM, or 6PM\n",
    "    - Passenger: alone, partner, kid(s), or friend(s)\n",
    "\n",
    "\n",
    "3. Coupon attributes\n",
    "    - time before it expires: 2 hours or one day"
   ]
  },
  {
   "cell_type": "code",
   "execution_count": 3,
   "metadata": {
    "id": "dzNoP3o__qRG"
   },
   "outputs": [],
   "source": [
    "import matplotlib.pyplot as plt\n",
    "import seaborn as sns\n",
    "import pandas as pd\n",
    "import numpy as np"
   ]
  },
  {
   "cell_type": "markdown",
   "metadata": {
    "id": "Ct8pI1uE_qRG"
   },
   "source": [
    "### Problems\n",
    "\n",
    "Use the prompts below to get started with your data analysis.  \n",
    "\n",
    "1. Read in the `coupons.csv` file.\n",
    "\n",
    "\n"
   ]
  },
  {
   "cell_type": "code",
   "execution_count": 4,
   "metadata": {
    "id": "X0vbffYg_qRH"
   },
   "outputs": [],
   "source": [
    "data = pd.read_csv('data/coupons.csv')"
   ]
  },
  {
   "cell_type": "code",
   "execution_count": 5,
   "metadata": {
    "id": "TXofQ_DF_qRH",
    "outputId": "2fc96a2c-1112-4b54-f24f-dbb9bc88abfb"
   },
   "outputs": [
    {
     "data": {
      "text/html": [
       "<div>\n",
       "<style scoped>\n",
       "    .dataframe tbody tr th:only-of-type {\n",
       "        vertical-align: middle;\n",
       "    }\n",
       "\n",
       "    .dataframe tbody tr th {\n",
       "        vertical-align: top;\n",
       "    }\n",
       "\n",
       "    .dataframe thead th {\n",
       "        text-align: right;\n",
       "    }\n",
       "</style>\n",
       "<table border=\"1\" class=\"dataframe\">\n",
       "  <thead>\n",
       "    <tr style=\"text-align: right;\">\n",
       "      <th></th>\n",
       "      <th>destination</th>\n",
       "      <th>passanger</th>\n",
       "      <th>weather</th>\n",
       "      <th>temperature</th>\n",
       "      <th>time</th>\n",
       "      <th>coupon</th>\n",
       "      <th>expiration</th>\n",
       "      <th>gender</th>\n",
       "      <th>age</th>\n",
       "      <th>maritalStatus</th>\n",
       "      <th>...</th>\n",
       "      <th>CoffeeHouse</th>\n",
       "      <th>CarryAway</th>\n",
       "      <th>RestaurantLessThan20</th>\n",
       "      <th>Restaurant20To50</th>\n",
       "      <th>toCoupon_GEQ5min</th>\n",
       "      <th>toCoupon_GEQ15min</th>\n",
       "      <th>toCoupon_GEQ25min</th>\n",
       "      <th>direction_same</th>\n",
       "      <th>direction_opp</th>\n",
       "      <th>Y</th>\n",
       "    </tr>\n",
       "  </thead>\n",
       "  <tbody>\n",
       "    <tr>\n",
       "      <th>0</th>\n",
       "      <td>No Urgent Place</td>\n",
       "      <td>Alone</td>\n",
       "      <td>Sunny</td>\n",
       "      <td>55</td>\n",
       "      <td>2PM</td>\n",
       "      <td>Restaurant(&lt;20)</td>\n",
       "      <td>1d</td>\n",
       "      <td>Female</td>\n",
       "      <td>21</td>\n",
       "      <td>Unmarried partner</td>\n",
       "      <td>...</td>\n",
       "      <td>never</td>\n",
       "      <td>NaN</td>\n",
       "      <td>4~8</td>\n",
       "      <td>1~3</td>\n",
       "      <td>1</td>\n",
       "      <td>0</td>\n",
       "      <td>0</td>\n",
       "      <td>0</td>\n",
       "      <td>1</td>\n",
       "      <td>1</td>\n",
       "    </tr>\n",
       "    <tr>\n",
       "      <th>1</th>\n",
       "      <td>No Urgent Place</td>\n",
       "      <td>Friend(s)</td>\n",
       "      <td>Sunny</td>\n",
       "      <td>80</td>\n",
       "      <td>10AM</td>\n",
       "      <td>Coffee House</td>\n",
       "      <td>2h</td>\n",
       "      <td>Female</td>\n",
       "      <td>21</td>\n",
       "      <td>Unmarried partner</td>\n",
       "      <td>...</td>\n",
       "      <td>never</td>\n",
       "      <td>NaN</td>\n",
       "      <td>4~8</td>\n",
       "      <td>1~3</td>\n",
       "      <td>1</td>\n",
       "      <td>0</td>\n",
       "      <td>0</td>\n",
       "      <td>0</td>\n",
       "      <td>1</td>\n",
       "      <td>0</td>\n",
       "    </tr>\n",
       "    <tr>\n",
       "      <th>2</th>\n",
       "      <td>No Urgent Place</td>\n",
       "      <td>Friend(s)</td>\n",
       "      <td>Sunny</td>\n",
       "      <td>80</td>\n",
       "      <td>10AM</td>\n",
       "      <td>Carry out &amp; Take away</td>\n",
       "      <td>2h</td>\n",
       "      <td>Female</td>\n",
       "      <td>21</td>\n",
       "      <td>Unmarried partner</td>\n",
       "      <td>...</td>\n",
       "      <td>never</td>\n",
       "      <td>NaN</td>\n",
       "      <td>4~8</td>\n",
       "      <td>1~3</td>\n",
       "      <td>1</td>\n",
       "      <td>1</td>\n",
       "      <td>0</td>\n",
       "      <td>0</td>\n",
       "      <td>1</td>\n",
       "      <td>1</td>\n",
       "    </tr>\n",
       "    <tr>\n",
       "      <th>3</th>\n",
       "      <td>No Urgent Place</td>\n",
       "      <td>Friend(s)</td>\n",
       "      <td>Sunny</td>\n",
       "      <td>80</td>\n",
       "      <td>2PM</td>\n",
       "      <td>Coffee House</td>\n",
       "      <td>2h</td>\n",
       "      <td>Female</td>\n",
       "      <td>21</td>\n",
       "      <td>Unmarried partner</td>\n",
       "      <td>...</td>\n",
       "      <td>never</td>\n",
       "      <td>NaN</td>\n",
       "      <td>4~8</td>\n",
       "      <td>1~3</td>\n",
       "      <td>1</td>\n",
       "      <td>1</td>\n",
       "      <td>0</td>\n",
       "      <td>0</td>\n",
       "      <td>1</td>\n",
       "      <td>0</td>\n",
       "    </tr>\n",
       "    <tr>\n",
       "      <th>4</th>\n",
       "      <td>No Urgent Place</td>\n",
       "      <td>Friend(s)</td>\n",
       "      <td>Sunny</td>\n",
       "      <td>80</td>\n",
       "      <td>2PM</td>\n",
       "      <td>Coffee House</td>\n",
       "      <td>1d</td>\n",
       "      <td>Female</td>\n",
       "      <td>21</td>\n",
       "      <td>Unmarried partner</td>\n",
       "      <td>...</td>\n",
       "      <td>never</td>\n",
       "      <td>NaN</td>\n",
       "      <td>4~8</td>\n",
       "      <td>1~3</td>\n",
       "      <td>1</td>\n",
       "      <td>1</td>\n",
       "      <td>0</td>\n",
       "      <td>0</td>\n",
       "      <td>1</td>\n",
       "      <td>0</td>\n",
       "    </tr>\n",
       "  </tbody>\n",
       "</table>\n",
       "<p>5 rows × 26 columns</p>\n",
       "</div>"
      ],
      "text/plain": [
       "       destination  passanger weather  temperature  time  \\\n",
       "0  No Urgent Place      Alone   Sunny           55   2PM   \n",
       "1  No Urgent Place  Friend(s)   Sunny           80  10AM   \n",
       "2  No Urgent Place  Friend(s)   Sunny           80  10AM   \n",
       "3  No Urgent Place  Friend(s)   Sunny           80   2PM   \n",
       "4  No Urgent Place  Friend(s)   Sunny           80   2PM   \n",
       "\n",
       "                  coupon expiration  gender age      maritalStatus  ...  \\\n",
       "0        Restaurant(<20)         1d  Female  21  Unmarried partner  ...   \n",
       "1           Coffee House         2h  Female  21  Unmarried partner  ...   \n",
       "2  Carry out & Take away         2h  Female  21  Unmarried partner  ...   \n",
       "3           Coffee House         2h  Female  21  Unmarried partner  ...   \n",
       "4           Coffee House         1d  Female  21  Unmarried partner  ...   \n",
       "\n",
       "   CoffeeHouse CarryAway RestaurantLessThan20 Restaurant20To50  \\\n",
       "0        never       NaN                  4~8              1~3   \n",
       "1        never       NaN                  4~8              1~3   \n",
       "2        never       NaN                  4~8              1~3   \n",
       "3        never       NaN                  4~8              1~3   \n",
       "4        never       NaN                  4~8              1~3   \n",
       "\n",
       "  toCoupon_GEQ5min toCoupon_GEQ15min toCoupon_GEQ25min direction_same  \\\n",
       "0                1                 0                 0              0   \n",
       "1                1                 0                 0              0   \n",
       "2                1                 1                 0              0   \n",
       "3                1                 1                 0              0   \n",
       "4                1                 1                 0              0   \n",
       "\n",
       "  direction_opp  Y  \n",
       "0             1  1  \n",
       "1             1  0  \n",
       "2             1  1  \n",
       "3             1  0  \n",
       "4             1  0  \n",
       "\n",
       "[5 rows x 26 columns]"
      ]
     },
     "execution_count": 5,
     "metadata": {},
     "output_type": "execute_result"
    }
   ],
   "source": [
    "data.head()"
   ]
  },
  {
   "cell_type": "markdown",
   "metadata": {
    "id": "GcDs78ZH_qRH"
   },
   "source": [
    "2. Investigate the dataset for missing or problematic data."
   ]
  },
  {
   "cell_type": "code",
   "execution_count": 6,
   "metadata": {
    "id": "6CwL6oWj_qRH"
   },
   "outputs": [
    {
     "name": "stdout",
     "output_type": "stream",
     "text": [
      "<class 'pandas.core.frame.DataFrame'>\n",
      "RangeIndex: 12684 entries, 0 to 12683\n",
      "Data columns (total 26 columns):\n",
      " #   Column                Non-Null Count  Dtype \n",
      "---  ------                --------------  ----- \n",
      " 0   destination           12684 non-null  object\n",
      " 1   passanger             12684 non-null  object\n",
      " 2   weather               12684 non-null  object\n",
      " 3   temperature           12684 non-null  int64 \n",
      " 4   time                  12684 non-null  object\n",
      " 5   coupon                12684 non-null  object\n",
      " 6   expiration            12684 non-null  object\n",
      " 7   gender                12684 non-null  object\n",
      " 8   age                   12684 non-null  object\n",
      " 9   maritalStatus         12684 non-null  object\n",
      " 10  has_children          12684 non-null  int64 \n",
      " 11  education             12684 non-null  object\n",
      " 12  occupation            12684 non-null  object\n",
      " 13  income                12684 non-null  object\n",
      " 14  car                   108 non-null    object\n",
      " 15  Bar                   12577 non-null  object\n",
      " 16  CoffeeHouse           12467 non-null  object\n",
      " 17  CarryAway             12533 non-null  object\n",
      " 18  RestaurantLessThan20  12554 non-null  object\n",
      " 19  Restaurant20To50      12495 non-null  object\n",
      " 20  toCoupon_GEQ5min      12684 non-null  int64 \n",
      " 21  toCoupon_GEQ15min     12684 non-null  int64 \n",
      " 22  toCoupon_GEQ25min     12684 non-null  int64 \n",
      " 23  direction_same        12684 non-null  int64 \n",
      " 24  direction_opp         12684 non-null  int64 \n",
      " 25  Y                     12684 non-null  int64 \n",
      "dtypes: int64(8), object(18)\n",
      "memory usage: 2.5+ MB\n",
      "Before removing duplicates: (12684, 26)\n",
      "After removing duplicates: (12610, 26)\n",
      "destination                 0\n",
      "direction_same              0\n",
      "toCoupon_GEQ25min           0\n",
      "toCoupon_GEQ15min           0\n",
      "toCoupon_GEQ5min            0\n",
      "income                      0\n",
      "direction_opp               0\n",
      "education                   0\n",
      "has_children                0\n",
      "occupation                  0\n",
      "age                         0\n",
      "gender                      0\n",
      "expiration                  0\n",
      "coupon                      0\n",
      "time                        0\n",
      "temperature                 0\n",
      "weather                     0\n",
      "passanger                   0\n",
      "maritalStatus               0\n",
      "Y                           0\n",
      "Bar                       107\n",
      "RestaurantLessThan20      129\n",
      "CarryAway                 150\n",
      "Restaurant20To50          189\n",
      "CoffeeHouse               217\n",
      "car                     12502\n",
      "dtype: int64\n"
     ]
    }
   ],
   "source": [
    "data.info()\n",
    "\n",
    "# some duplicates found using all rows\n",
    "print(\"Before removing duplicates:\", data.shape)\n",
    "df = data.drop_duplicates()\n",
    "print(\"After removing duplicates:\", df.shape)\n",
    "\n",
    "# some missing data found in critical rows\n",
    "missing_counts = df.isnull().sum().sort_values()\n",
    "print(missing_counts)"
   ]
  },
  {
   "cell_type": "markdown",
   "metadata": {
    "id": "bSdVSpYB_qRH"
   },
   "source": [
    "3. Decide what to do about your missing data -- drop, replace, other..."
   ]
  },
  {
   "cell_type": "code",
   "execution_count": 54,
   "metadata": {
    "id": "tyvoAC5F_qRI"
   },
   "outputs": [
    {
     "name": "stdout",
     "output_type": "stream",
     "text": [
      "<class 'pandas.core.frame.DataFrame'>\n",
      "RangeIndex: 12007 entries, 0 to 12006\n",
      "Data columns (total 26 columns):\n",
      " #   Column                Non-Null Count  Dtype \n",
      "---  ------                --------------  ----- \n",
      " 0   index                 12007 non-null  int64 \n",
      " 1   destination           12007 non-null  object\n",
      " 2   passanger             12007 non-null  object\n",
      " 3   weather               12007 non-null  object\n",
      " 4   temperature           12007 non-null  int64 \n",
      " 5   time                  12007 non-null  object\n",
      " 6   coupon                12007 non-null  object\n",
      " 7   expiration            12007 non-null  object\n",
      " 8   gender                12007 non-null  object\n",
      " 9   age                   12007 non-null  object\n",
      " 10  maritalStatus         12007 non-null  object\n",
      " 11  has_children          12007 non-null  int64 \n",
      " 12  education             12007 non-null  object\n",
      " 13  occupation            12007 non-null  object\n",
      " 14  income                12007 non-null  object\n",
      " 15  Bar                   12007 non-null  object\n",
      " 16  CoffeeHouse           12007 non-null  object\n",
      " 17  CarryAway             12007 non-null  object\n",
      " 18  RestaurantLessThan20  12007 non-null  object\n",
      " 19  Restaurant20To50      12007 non-null  object\n",
      " 20  toCoupon_GEQ5min      12007 non-null  int64 \n",
      " 21  toCoupon_GEQ15min     12007 non-null  int64 \n",
      " 22  toCoupon_GEQ25min     12007 non-null  int64 \n",
      " 23  direction_same        12007 non-null  int64 \n",
      " 24  direction_opp         12007 non-null  int64 \n",
      " 25  Y                     12007 non-null  int64 \n",
      "dtypes: int64(9), object(17)\n",
      "memory usage: 2.4+ MB\n"
     ]
    },
    {
     "data": {
      "text/html": [
       "<div>\n",
       "<style scoped>\n",
       "    .dataframe tbody tr th:only-of-type {\n",
       "        vertical-align: middle;\n",
       "    }\n",
       "\n",
       "    .dataframe tbody tr th {\n",
       "        vertical-align: top;\n",
       "    }\n",
       "\n",
       "    .dataframe thead th {\n",
       "        text-align: right;\n",
       "    }\n",
       "</style>\n",
       "<table border=\"1\" class=\"dataframe\">\n",
       "  <thead>\n",
       "    <tr style=\"text-align: right;\">\n",
       "      <th></th>\n",
       "      <th>index</th>\n",
       "      <th>destination</th>\n",
       "      <th>passanger</th>\n",
       "      <th>weather</th>\n",
       "      <th>temperature</th>\n",
       "      <th>time</th>\n",
       "      <th>coupon</th>\n",
       "      <th>expiration</th>\n",
       "      <th>gender</th>\n",
       "      <th>age</th>\n",
       "      <th>...</th>\n",
       "      <th>CoffeeHouse</th>\n",
       "      <th>CarryAway</th>\n",
       "      <th>RestaurantLessThan20</th>\n",
       "      <th>Restaurant20To50</th>\n",
       "      <th>toCoupon_GEQ5min</th>\n",
       "      <th>toCoupon_GEQ15min</th>\n",
       "      <th>toCoupon_GEQ25min</th>\n",
       "      <th>direction_same</th>\n",
       "      <th>direction_opp</th>\n",
       "      <th>Y</th>\n",
       "    </tr>\n",
       "  </thead>\n",
       "  <tbody>\n",
       "    <tr>\n",
       "      <th>0</th>\n",
       "      <td>22</td>\n",
       "      <td>No Urgent Place</td>\n",
       "      <td>Alone</td>\n",
       "      <td>Sunny</td>\n",
       "      <td>55</td>\n",
       "      <td>2PM</td>\n",
       "      <td>Restaurant(&lt;20)</td>\n",
       "      <td>1d</td>\n",
       "      <td>Male</td>\n",
       "      <td>21</td>\n",
       "      <td>...</td>\n",
       "      <td>less1</td>\n",
       "      <td>4~8</td>\n",
       "      <td>4~8</td>\n",
       "      <td>less1</td>\n",
       "      <td>1</td>\n",
       "      <td>0</td>\n",
       "      <td>0</td>\n",
       "      <td>0</td>\n",
       "      <td>1</td>\n",
       "      <td>1</td>\n",
       "    </tr>\n",
       "    <tr>\n",
       "      <th>1</th>\n",
       "      <td>23</td>\n",
       "      <td>No Urgent Place</td>\n",
       "      <td>Friend(s)</td>\n",
       "      <td>Sunny</td>\n",
       "      <td>80</td>\n",
       "      <td>10AM</td>\n",
       "      <td>Coffee House</td>\n",
       "      <td>2h</td>\n",
       "      <td>Male</td>\n",
       "      <td>21</td>\n",
       "      <td>...</td>\n",
       "      <td>less1</td>\n",
       "      <td>4~8</td>\n",
       "      <td>4~8</td>\n",
       "      <td>less1</td>\n",
       "      <td>1</td>\n",
       "      <td>0</td>\n",
       "      <td>0</td>\n",
       "      <td>0</td>\n",
       "      <td>1</td>\n",
       "      <td>0</td>\n",
       "    </tr>\n",
       "    <tr>\n",
       "      <th>2</th>\n",
       "      <td>24</td>\n",
       "      <td>No Urgent Place</td>\n",
       "      <td>Friend(s)</td>\n",
       "      <td>Sunny</td>\n",
       "      <td>80</td>\n",
       "      <td>10AM</td>\n",
       "      <td>Bar</td>\n",
       "      <td>1d</td>\n",
       "      <td>Male</td>\n",
       "      <td>21</td>\n",
       "      <td>...</td>\n",
       "      <td>less1</td>\n",
       "      <td>4~8</td>\n",
       "      <td>4~8</td>\n",
       "      <td>less1</td>\n",
       "      <td>1</td>\n",
       "      <td>0</td>\n",
       "      <td>0</td>\n",
       "      <td>0</td>\n",
       "      <td>1</td>\n",
       "      <td>1</td>\n",
       "    </tr>\n",
       "    <tr>\n",
       "      <th>3</th>\n",
       "      <td>25</td>\n",
       "      <td>No Urgent Place</td>\n",
       "      <td>Friend(s)</td>\n",
       "      <td>Sunny</td>\n",
       "      <td>80</td>\n",
       "      <td>10AM</td>\n",
       "      <td>Carry out &amp; Take away</td>\n",
       "      <td>2h</td>\n",
       "      <td>Male</td>\n",
       "      <td>21</td>\n",
       "      <td>...</td>\n",
       "      <td>less1</td>\n",
       "      <td>4~8</td>\n",
       "      <td>4~8</td>\n",
       "      <td>less1</td>\n",
       "      <td>1</td>\n",
       "      <td>1</td>\n",
       "      <td>0</td>\n",
       "      <td>0</td>\n",
       "      <td>1</td>\n",
       "      <td>0</td>\n",
       "    </tr>\n",
       "    <tr>\n",
       "      <th>4</th>\n",
       "      <td>26</td>\n",
       "      <td>No Urgent Place</td>\n",
       "      <td>Friend(s)</td>\n",
       "      <td>Sunny</td>\n",
       "      <td>80</td>\n",
       "      <td>2PM</td>\n",
       "      <td>Coffee House</td>\n",
       "      <td>1d</td>\n",
       "      <td>Male</td>\n",
       "      <td>21</td>\n",
       "      <td>...</td>\n",
       "      <td>less1</td>\n",
       "      <td>4~8</td>\n",
       "      <td>4~8</td>\n",
       "      <td>less1</td>\n",
       "      <td>1</td>\n",
       "      <td>0</td>\n",
       "      <td>0</td>\n",
       "      <td>0</td>\n",
       "      <td>1</td>\n",
       "      <td>0</td>\n",
       "    </tr>\n",
       "  </tbody>\n",
       "</table>\n",
       "<p>5 rows × 26 columns</p>\n",
       "</div>"
      ],
      "text/plain": [
       "   index      destination  passanger weather  temperature  time  \\\n",
       "0     22  No Urgent Place      Alone   Sunny           55   2PM   \n",
       "1     23  No Urgent Place  Friend(s)   Sunny           80  10AM   \n",
       "2     24  No Urgent Place  Friend(s)   Sunny           80  10AM   \n",
       "3     25  No Urgent Place  Friend(s)   Sunny           80  10AM   \n",
       "4     26  No Urgent Place  Friend(s)   Sunny           80   2PM   \n",
       "\n",
       "                  coupon expiration gender age  ... CoffeeHouse  CarryAway  \\\n",
       "0        Restaurant(<20)         1d   Male  21  ...       less1        4~8   \n",
       "1           Coffee House         2h   Male  21  ...       less1        4~8   \n",
       "2                    Bar         1d   Male  21  ...       less1        4~8   \n",
       "3  Carry out & Take away         2h   Male  21  ...       less1        4~8   \n",
       "4           Coffee House         1d   Male  21  ...       less1        4~8   \n",
       "\n",
       "  RestaurantLessThan20 Restaurant20To50 toCoupon_GEQ5min toCoupon_GEQ15min  \\\n",
       "0                  4~8            less1                1                 0   \n",
       "1                  4~8            less1                1                 0   \n",
       "2                  4~8            less1                1                 0   \n",
       "3                  4~8            less1                1                 1   \n",
       "4                  4~8            less1                1                 0   \n",
       "\n",
       "  toCoupon_GEQ25min direction_same direction_opp  Y  \n",
       "0                 0              0             1  1  \n",
       "1                 0              0             1  0  \n",
       "2                 0              0             1  1  \n",
       "3                 0              0             1  0  \n",
       "4                 0              0             1  0  \n",
       "\n",
       "[5 rows x 26 columns]"
      ]
     },
     "execution_count": 54,
     "metadata": {},
     "output_type": "execute_result"
    }
   ],
   "source": [
    "# dropping unnecessary car column due to excessive NULLs and duplicate rows\n",
    "df = data.drop_duplicates()\n",
    "df = df.drop('car', axis=1)\n",
    "\n",
    "# dropping rows that are missing critical data\n",
    "df.dropna(subset=['Bar', 'RestaurantLessThan20', 'CarryAway', 'Restaurant20To50', 'CoffeeHouse'], inplace=True)\n",
    "\n",
    "# resetting index\n",
    "df.reset_index(inplace=True)\n",
    "\n",
    "# convert 'time' column to actual type using proper format\n",
    "# df['time'] = pd.to_datetime(df['time'], format='%H%p')\n",
    "\n",
    "# change 'age' column to numeric values where below21 : <= 20, 21: 21 to 25, 26: 26 to 30...50plus: >= 51\n",
    "# df.loc[df.query('age == \"below21\"').index, 'age_n'] = 20\n",
    "# df.loc[df.query('age == \"50plus\"').index, 'age_n'] = 51\n",
    "# df.loc[df.query('age != \"50plus\" and age != \"below21\"').index, 'age_n'] = df['age']\n",
    "\n",
    "# df['age_n'] = df['age_n'].astype('int64')\n",
    "\n",
    "df.info()\n",
    "df.head()"
   ]
  },
  {
   "cell_type": "markdown",
   "metadata": {
    "id": "YE6oJbXd_qRI"
   },
   "source": [
    "4. What proportion of the total observations chose to accept the coupon?\n",
    "Answer: 56.8418% accepted the coupon."
   ]
  },
  {
   "cell_type": "code",
   "execution_count": 55,
   "metadata": {
    "id": "86GGqBTv_qRI"
   },
   "outputs": [
    {
     "data": {
      "text/plain": [
       "Y\n",
       "1    0.568418\n",
       "0    0.431582\n",
       "Name: proportion, dtype: float64"
      ]
     },
     "execution_count": 55,
     "metadata": {},
     "output_type": "execute_result"
    }
   ],
   "source": [
    "df['Y'].value_counts(normalize=True)"
   ]
  },
  {
   "cell_type": "markdown",
   "metadata": {
    "id": "vflz0DoE_qRI"
   },
   "source": [
    "5. Use a bar plot to visualize the `coupon` column."
   ]
  },
  {
   "cell_type": "code",
   "execution_count": 56,
   "metadata": {
    "id": "dHFh3E45_qRI"
   },
   "outputs": [
    {
     "data": {
      "image/png": "[encoded data removed]",
      "text/plain": [
       "<Figure size 1000x600 with 1 Axes>"
      ]
     },
     "metadata": {},
     "output_type": "display_data"
    }
   ],
   "source": [
    "plt.figure(figsize=(10, 6))\n",
    "sns.countplot(data=df, x='coupon')\n",
    "plt.title('Distribution of Coupons by Retail Provider Type')\n",
    "plt.xticks(rotation=45)\n",
    "plt.tight_layout()\n",
    "plt.show()"
   ]
  },
  {
   "cell_type": "markdown",
   "metadata": {
    "id": "Qw4lCyx2_qRI"
   },
   "source": [
    "6. Use a histogram to visualize the temperature column."
   ]
  },
  {
   "cell_type": "code",
   "execution_count": 135,
   "metadata": {
    "id": "Yg9Anv71_qRI"
   },
   "outputs": [
    {
     "data": {
      "text/plain": [
       "Text(0.5, 1.0, 'Coupons sent vs Temperature')"
      ]
     },
     "execution_count": 135,
     "metadata": {},
     "output_type": "execute_result"
    },
    {
     "data": {
      "image/png": "[encoded data removed]",
      "text/plain": [
       "<Figure size 640x480 with 1 Axes>"
      ]
     },
     "metadata": {},
     "output_type": "display_data"
    }
   ],
   "source": [
    "df_str_temp = df\n",
    "df_str_temp['temperature'] = df['temperature'].astype(str)\n",
    "sns.histplot(data=df_str_temp, x='temperature')\n",
    "plt.title('Coupons sent vs Temperature')\n"
   ]
  },
  {
   "cell_type": "code",
   "execution_count": 131,
   "metadata": {
    "id": "zLtOaJQk_qRI"
   },
   "outputs": [
    {
     "data": {
      "text/plain": [
       "Text(0.5, 1.0, 'Coupons sent vs Temperature during Weather Conditions')"
      ]
     },
     "execution_count": 131,
     "metadata": {},
     "output_type": "execute_result"
    },
    {
     "data": {
      "image/png": "[encoded data removed]",
      "text/plain": [
       "<Figure size 640x480 with 1 Axes>"
      ]
     },
     "metadata": {},
     "output_type": "display_data"
    }
   ],
   "source": [
    "df_str_temp = df\n",
    "df_str_temp['temperature'] = df['temperature'].astype(str)\n",
    "x_order = ['30', '55', '80']\n",
    "df_str_temp['temperature'] = pd.Categorical(df_str_temp['temperature'], x_order)\n",
    "sns.histplot(data=df_str_temp, x='temperature', hue='weather')\n",
    "plt.title(\"Coupons sent vs Temperature during Weather Conditions\")"
   ]
  },
  {
   "cell_type": "code",
   "execution_count": null,
   "metadata": {
    "id": "7GBHZKBp_qRJ"
   },
   "outputs": [
    {
     "data": {
      "image/png": "[encoded data removed]",
      "text/plain": [
       "<Figure size 640x480 with 1 Axes>"
      ]
     },
     "metadata": {},
     "output_type": "display_data"
    }
   ],
   "source": [
    "df_str_temp = df\n",
    "df_str_temp['temperature'] = df['temperature'].astype(str)\n",
    "x_order = ['10PM', '6PM', '2PM', '10AM', '7AM']\n",
    "df_str_temp['time'] = pd.Categorical(df_str_temp['time'], x_order)\n",
    "sns.histplot(data=df_str_temp, hue='temperature', hue_order=['30', '55', '80'], x='time')\n",
    "plt.title(\"Coupons sent vs Temperature during Time of Day\")\n",
    "plt.show()"
   ]
  },
  {
   "cell_type": "code",
   "execution_count": 133,
   "metadata": {
    "id": "Y5nBUA-j_qRJ"
   },
   "outputs": [
    {
     "data": {
      "text/plain": [
       "Text(0.5, 1.0, 'Coupons sent vs Temperature during Travel')"
      ]
     },
     "execution_count": 133,
     "metadata": {},
     "output_type": "execute_result"
    },
    {
     "data": {
      "image/png": "[encoded data removed]",
      "text/plain": [
       "<Figure size 640x480 with 1 Axes>"
      ]
     },
     "metadata": {},
     "output_type": "display_data"
    }
   ],
   "source": [
    "# err...that one didn't make any sense\n",
    "# df_sortage = df.sort_values(by='age', ascending=True)\n",
    "# df_sortage['age'] = df_sortage['age'].map({'below21':'< 21', '21':'21-25', '26':'26-30', '31':'31-35', '36':'36-40', '41':'41-45', '46':'46-50', '50plus':'> 50'})\n",
    "# hue_order = ['< 21', '21-25', '26-30', '31-35', '36-40', '41-45', '46-50', '> 50']\n",
    "# sns.displot(data=df_sortage, x='temperature', hue='age', hue_order=hue_order)\n",
    "\n",
    "df_str_temp = df\n",
    "df_str_temp['temperature'] = df['temperature'].astype(str)\n",
    "x_order = ['30', '55', '80']\n",
    "df_str_temp['temperature'] = pd.Categorical(df_str_temp['temperature'], x_order)\n",
    "sns.countplot(data=df_str_temp, x='temperature', hue='destination')\n",
    "plt.title(\"Coupons sent vs Temperature during Travel\")"
   ]
  },
  {
   "cell_type": "code",
   "execution_count": 134,
   "metadata": {
    "id": "ShcUC-Vm_qRJ"
   },
   "outputs": [
    {
     "data": {
      "text/plain": [
       "([0, 1, 2, 3, 4],\n",
       " [Text(0, 0, 'Restaurant(<20)'),\n",
       "  Text(1, 0, 'Coffee House'),\n",
       "  Text(2, 0, 'Bar'),\n",
       "  Text(3, 0, 'Carry out & Take away'),\n",
       "  Text(4, 0, 'Restaurant(20-50)')])"
      ]
     },
     "execution_count": 134,
     "metadata": {},
     "output_type": "execute_result"
    },
    {
     "data": {
      "image/png": "[encoded data removed]",
      "text/plain": [
       "<Figure size 598.611x500 with 1 Axes>"
      ]
     },
     "metadata": {},
     "output_type": "display_data"
    }
   ],
   "source": [
    "df_str_temp = df\n",
    "df_str_temp['temperature'] = df['temperature'].astype(str)\n",
    "sns.displot(data=df_str_temp, hue='temperature', x='coupon')\n",
    "plt.title(\"Coupons sent vs Weather (Temperature) when Coupon Type is Available\")\n",
    "plt.xticks(rotation=90)"
   ]
  },
  {
   "cell_type": "markdown",
   "metadata": {
    "id": "FupfgeJk_qRJ"
   },
   "source": [
    "**Investigating the Bar Coupons**\n",
    "\n",
    "Now, we will lead you through an exploration of just the bar related coupons.  \n",
    "\n",
    "1. Create a new `DataFrame` that contains just the bar coupons.\n"
   ]
  },
  {
   "cell_type": "code",
   "execution_count": 85,
   "metadata": {
    "id": "tMBlWuGq_qRJ"
   },
   "outputs": [
    {
     "name": "stdout",
     "output_type": "stream",
     "text": [
      "<class 'pandas.core.frame.DataFrame'>\n",
      "RangeIndex: 1906 entries, 0 to 1905\n",
      "Data columns (total 26 columns):\n",
      " #   Column                Non-Null Count  Dtype   \n",
      "---  ------                --------------  -----   \n",
      " 0   index                 1906 non-null   int64   \n",
      " 1   destination           1906 non-null   object  \n",
      " 2   passanger             1906 non-null   object  \n",
      " 3   weather               1906 non-null   object  \n",
      " 4   temperature           1906 non-null   object  \n",
      " 5   time                  1906 non-null   category\n",
      " 6   coupon                1906 non-null   object  \n",
      " 7   expiration            1906 non-null   object  \n",
      " 8   gender                1906 non-null   object  \n",
      " 9   age                   1906 non-null   object  \n",
      " 10  maritalStatus         1906 non-null   object  \n",
      " 11  has_children          1906 non-null   int64   \n",
      " 12  education             1906 non-null   object  \n",
      " 13  occupation            1906 non-null   object  \n",
      " 14  income                1906 non-null   object  \n",
      " 15  Bar                   1906 non-null   object  \n",
      " 16  CoffeeHouse           1906 non-null   object  \n",
      " 17  CarryAway             1906 non-null   object  \n",
      " 18  RestaurantLessThan20  1906 non-null   object  \n",
      " 19  Restaurant20To50      1906 non-null   object  \n",
      " 20  toCoupon_GEQ5min      1906 non-null   int64   \n",
      " 21  toCoupon_GEQ15min     1906 non-null   int64   \n",
      " 22  toCoupon_GEQ25min     1906 non-null   int64   \n",
      " 23  direction_same        1906 non-null   int64   \n",
      " 24  direction_opp         1906 non-null   int64   \n",
      " 25  Y                     1906 non-null   int64   \n",
      "dtypes: category(1), int64(8), object(17)\n",
      "memory usage: 374.5+ KB\n"
     ]
    }
   ],
   "source": [
    "bar_coupon_only_df = df.loc[df['coupon'] == 'Bar', ['destination', 'passanger', 'weather', 'temperature', 'time', 'coupon', 'expiration', 'gender', 'age', 'maritalStatus', 'has_children', 'education', 'occupation', 'income', 'Bar', 'CoffeeHouse', 'CarryAway', 'RestaurantLessThan20', 'Restaurant20To50', 'toCoupon_GEQ5min', 'toCoupon_GEQ15min', 'toCoupon_GEQ25min', 'direction_same', 'direction_opp', 'Y']]\n",
    "bar_coupon_only_df.reset_index(inplace=True)\n",
    "\n",
    "bar_coupon_only_df.info()\n"
   ]
  },
  {
   "cell_type": "markdown",
   "metadata": {
    "id": "8ue6uCqf_qRJ"
   },
   "source": [
    "2. What proportion of bar coupons were accepted?\n",
    "Answer: 58.8143% accepted coupon"
   ]
  },
  {
   "cell_type": "code",
   "execution_count": null,
   "metadata": {
    "id": "hSdte8Mi_qRK"
   },
   "outputs": [
    {
     "name": "stdout",
     "output_type": "stream",
     "text": [
      "Proportion (%) bar coupons accepted (1) vs rejected (0):  Y\n",
      "0    0.588143\n",
      "1    0.411857\n",
      "Name: proportion, dtype: float64\n",
      "Total bar coupons accepted:  785\n"
     ]
    },
    {
     "data": {
      "text/plain": [
       "income\n",
       "$25000 - $37499     0.157398\n",
       "$100000 or More     0.146380\n",
       "$12500 - $24999     0.142183\n",
       "$50000 - $62499     0.130640\n",
       "$37500 - $49999     0.129591\n",
       "Less than $12500    0.083421\n",
       "$75000 - $87499     0.075026\n",
       "$62500 - $74999     0.067681\n",
       "$87500 - $99999     0.067681\n",
       "Name: proportion, dtype: float64"
      ]
     },
     "execution_count": 169,
     "metadata": {},
     "output_type": "execute_result"
    }
   ],
   "source": [
    "print('Proportion (%) bar coupons accepted (1) vs rejected (0): ', bar_coupon_only_df['Y'].value_counts(normalize=True))\n",
    "total_bar_coupons_accepted = bar_coupon_only_df['Y'].value_counts(normalize=False)[1]\n",
    "print(\"Total bar coupons accepted: \", total_bar_coupons_accepted)\n",
    "# bar_coupon_only_df['Y'].value_counts(normalize=False)\n",
    "# bar_coupon_only_df['maritalStatus'].value_counts(normalize=True)\n",
    "# bar_coupon_only_df['income'].value_counts(normalize=True)"
   ]
  },
  {
   "cell_type": "markdown",
   "metadata": {
    "id": "85nA_iEi_qRK"
   },
   "source": [
    "3. Compare the acceptance rate between those who went to a bar 3 or fewer times a month to those who went more.\n"
   ]
  },
  {
   "cell_type": "code",
   "execution_count": 154,
   "metadata": {
    "id": "LBOrN-XM_qRK"
   },
   "outputs": [
    {
     "name": "stdout",
     "output_type": "stream",
     "text": [
      "Proportion of \"bar\" coupons accepted by people who go > 1 time per month: 50.06369426751592 %\n",
      "Out of [ 785 ] \"bar\" coupons accepted\n",
      "Total after filter: [ 393 ]\n",
      "remainder of everyone else that goes to the bar [ 392 ] -> Proportion:  49.93630573248408 %\n"
     ]
    }
   ],
   "source": [
    "query_filter = '(Bar in [\"never\", \"less1\"])'\n",
    "filter_total = bar_coupon_only_df.query(query_filter + \" and Y == 1\")['Bar'].value_counts(normalize=False).sum()\n",
    "filter_remainder = bar_coupon_only_df.query(\"not (\" + query_filter + \") and Y == 1\")['Bar'].value_counts(normalize=False).sum()\n",
    "proportion_from_filter = (filter_total  / total_bar_coupons_accepted)  * 100\n",
    "proportion_remainder = (filter_remainder / total_bar_coupons_accepted) * 100\n",
    "\n",
    "print('Proportion of \"bar\" coupons accepted by people who go > 1 time per month:', proportion_from_filter, '%')\n",
    "print('Out of [', total_bar_coupons_accepted, '] \"bar\" coupons accepted')\n",
    "print('Total after filter: [', filter_total, \"]\")\n",
    "print('remainder of everyone else that goes to the bar [', filter_remainder, '] -> Proportion: ',  proportion_remainder, '%')\n",
    "\n"
   ]
  },
  {
   "cell_type": "markdown",
   "metadata": {
    "id": "RBgcQwH4_qRK"
   },
   "source": [
    "4. Compare the acceptance rate between drivers who go to a bar more than once a month and are over the age of 25 to the all others.  Is there a difference?\n"
   ]
  },
  {
   "cell_type": "code",
   "execution_count": 156,
   "metadata": {
    "id": "bf28bbeX_qRK"
   },
   "outputs": [
    {
     "name": "stdout",
     "output_type": "stream",
     "text": [
      "Proportion of accepted bar coupons for people that go > 1 time per month and are over 25:  35.4140127388535 %\n",
      "Out of [ 785 ] \"bar\" coupons accepted\n",
      "Total after filter: [ 278 ]\n",
      "remainder of everyone else that goes to the bar [ 507 ] -> Proportion:  64.5859872611465 %\n"
     ]
    }
   ],
   "source": [
    "query_filter = '(Bar not in [\"never\", \"less1\"] and age not in [\"below21\", \"21\"])'\n",
    "filter_total = bar_coupon_only_df.query(query_filter + \" and Y == 1\")['Bar'].value_counts(normalize=False).sum()\n",
    "filter_remainder = bar_coupon_only_df.query(\"not (\" + query_filter + \") and Y == 1\")['Bar'].value_counts(normalize=False).sum()\n",
    "proportion_from_filter = (filter_total  / total_bar_coupons_accepted)  * 100\n",
    "proportion_remainder = (filter_remainder / total_bar_coupons_accepted) * 100\n",
    "\n",
    "print('Proportion of accepted bar coupons for people that go > 1 time per month and are over 25: ', proportion_from_filter, '%')\n",
    "print('Out of [', total_bar_coupons_accepted, '] \"bar\" coupons accepted')\n",
    "print('Total after filter: [', filter_total, \"]\")\n",
    "print('remainder of everyone else that goes to the bar [', filter_remainder, '] -> Proportion: ',  proportion_remainder, '%')\n"
   ]
  },
  {
   "cell_type": "markdown",
   "metadata": {
    "id": "S4RKT4PJ_qRK"
   },
   "source": [
    "5. Use the same process to compare the acceptance rate between drivers who go to bars more than once a month and had passengers that were not a kid and had occupations other than farming, fishing, or forestry.\n"
   ]
  },
  {
   "cell_type": "code",
   "execution_count": null,
   "metadata": {
    "id": "sENaI2Tg_qRK"
   },
   "outputs": [
    {
     "name": "stdout",
     "output_type": "stream",
     "text": [
      "Proportion of accepted bar coupons for people that go > 1 time per month with an adult passanger and have an occupation outside of \"farming, fishing or forrestry\": \n",
      " 17.197452229299362 %\n",
      "Out of [ 785 ] \"bar\" coupons accepted\n",
      "Total after filter: [ 135 ]\n",
      "remainder of everyone else that goes to the bar [ 650 ] -> Proportion:  82.80254777070064 %\n"
     ]
    }
   ],
   "source": [
    "query_filter = '(Bar not in [\"never\", \"less1\"] and passanger not in [\"Alone\", \"Kid(s)\"] and occupation not in [\"Farming Fishing & Forestry\"])'\n",
    "filter_total = bar_coupon_only_df.query(query_filter + \" and Y == 1\")['Bar'].value_counts(normalize=False).sum()\n",
    "filter_remainder = bar_coupon_only_df.query(\"not (\" + query_filter + \") and Y == 1\")['Bar'].value_counts(normalize=False).sum()\n",
    "proportion_from_filter = (filter_total  / total_bar_coupons_accepted)  * 100\n",
    "proportion_remainder = (filter_remainder / total_bar_coupons_accepted) * 100\n",
    "\n",
    "print('Proportion of accepted bar coupons for people that go > 1 time per month with an adult passanger and have an occupation outside of \"farming, fishing or forrestry\": \\n', proportion_from_filter, '%')\n",
    "print('Out of [', total_bar_coupons_accepted, '] \"bar\" coupons accepted')\n",
    "print('Total after filter: [', filter_total, \"]\")\n",
    "print('remainder of everyone else that goes to the bar [', filter_remainder, '] -> Proportion: ',  proportion_remainder, '%')\n",
    "\n"
   ]
  },
  {
   "cell_type": "markdown",
   "metadata": {
    "id": "n2LIUTil_qRK"
   },
   "source": [
    "6. Compare the acceptance rates between those drivers who:\n",
    "\n",
    "- go to bars more than once a month, had passengers that were not a kid, and were not widowed *OR*\n",
    "- go to bars more than once a month and are under the age of 30 *OR*\n",
    "- go to cheap restaurants more than 4 times a month and income is less than 50K.\n",
    "\n"
   ]
  },
  {
   "cell_type": "code",
   "execution_count": 170,
   "metadata": {
    "id": "aK_wEzx7_qRK"
   },
   "outputs": [
    {
     "name": "stdout",
     "output_type": "stream",
     "text": [
      "Proportion of accepted bar coupons for people that go > 1 time per month with an adult passanger and are not widowed\": \n",
      " 17.197452229299362 %\n",
      "Out of [ 785 ] \"bar\" coupons accepted\n",
      "Total after filter: [ 135 ]\n",
      "remainder of everyone else that goes to the bar [ 650 ] -> Proportion:  82.80254777070064 %\n",
      "\n",
      "\n",
      "Proportion of accepted bar coupons for people that go > 1 time per month and are younger than age 30\": \n",
      " 30.063694267515924 %\n",
      "Out of [ 785 ] \"bar\" coupons accepted\n",
      "Total after filter: [ 236 ]\n",
      "remainder of everyone else that goes to the bar [ 549 ] -> Proportion:  69.93630573248407 %\n",
      "\n",
      "\n",
      "Proportion of accepted bar coupons for people that go to cheap restaurants > 4 time per month and have an income < $50,000\": \n",
      " 15.159235668789808 %\n",
      "Out of [ 785 ] \"bar\" coupons accepted\n",
      "Total after filter: [ 119 ]\n",
      "remainder of everyone else that goes to the bar [ 666 ] -> Proportion:  84.8407643312102 %\n",
      "\n",
      "\n"
     ]
    }
   ],
   "source": [
    "query_filter = '(Bar not in [\"never\", \"less1\"] and passanger not in [\"Alone\", \"Kid(s)\"] and maritalStatus not in [\"Widowed\"])'\n",
    "filter_total = bar_coupon_only_df.query(query_filter + \" and Y == 1\")['Bar'].value_counts(normalize=False).sum()\n",
    "filter_remainder = bar_coupon_only_df.query(\"not (\" + query_filter + \") and Y == 1\")['Bar'].value_counts(normalize=False).sum()\n",
    "proportion_from_filter = (filter_total  / total_bar_coupons_accepted)  * 100\n",
    "proportion_remainder = (filter_remainder / total_bar_coupons_accepted) * 100\n",
    "\n",
    "print('Proportion of accepted bar coupons for people that go > 1 time per month with an adult passanger and are not widowed\": \\n', proportion_from_filter, '%')\n",
    "print('Out of [', total_bar_coupons_accepted, '] \"bar\" coupons accepted')\n",
    "print('Total after filter: [', filter_total, \"]\")\n",
    "print('remainder of everyone else that goes to the bar [', filter_remainder, '] -> Proportion: ',  proportion_remainder, '%\\n\\n')\n",
    "\n",
    "\n",
    "query_filter = '(Bar not in [\"never\", \"less1\"] and age in [\"below21\", \"21\", \"26\"])'\n",
    "filter_total = bar_coupon_only_df.query(query_filter + \" and Y == 1\")['Bar'].value_counts(normalize=False).sum()\n",
    "filter_remainder = bar_coupon_only_df.query(\"not (\" + query_filter + \") and Y == 1\")['Bar'].value_counts(normalize=False).sum()\n",
    "proportion_from_filter = (filter_total  / total_bar_coupons_accepted)  * 100\n",
    "proportion_remainder = (filter_remainder / total_bar_coupons_accepted) * 100\n",
    "\n",
    "print('Proportion of accepted bar coupons for people that go > 1 time per month and are younger than age 30\": \\n', proportion_from_filter, '%')\n",
    "print('Out of [', total_bar_coupons_accepted, '] \"bar\" coupons accepted')\n",
    "print('Total after filter: [', filter_total, \"]\")\n",
    "print('remainder of everyone else that goes to the bar [', filter_remainder, '] -> Proportion: ',  proportion_remainder, '%\\n\\n')\n",
    "\n",
    "\n",
    "query_filter = '(RestaurantLessThan20 not in [\"never\", \"less1\", \"1~3\"] and income in [\"Less than $12500\", \"$12500 - $24999\", \"$25000 - $374996\", \"$37500 - $49999\"])'\n",
    "filter_total = bar_coupon_only_df.query(query_filter + \" and Y == 1\")['Bar'].value_counts(normalize=False).sum()\n",
    "filter_remainder = bar_coupon_only_df.query(\"not (\" + query_filter + \") and Y == 1\")['Bar'].value_counts(normalize=False).sum()\n",
    "proportion_from_filter = (filter_total  / total_bar_coupons_accepted)  * 100\n",
    "proportion_remainder = (filter_remainder / total_bar_coupons_accepted) * 100\n",
    "\n",
    "print('Proportion of accepted bar coupons for people that go to cheap restaurants > 4 time per month and have an income < $50,000\": \\n', proportion_from_filter, '%')\n",
    "print('Out of [', total_bar_coupons_accepted, '] \"bar\" coupons accepted')\n",
    "print('Total after filter: [', filter_total, \"]\")\n",
    "print('remainder of everyone else that goes to the bar [', filter_remainder, '] -> Proportion: ',  proportion_remainder, '%\\n\\n')\n",
    "\n"
   ]
  },
  {
   "cell_type": "markdown",
   "metadata": {
    "id": "v3fL3QkO_qRK"
   },
   "source": [
    "7.  Based on these observations, what do you hypothesize about drivers who accepted the bar coupons?"
   ]
  },
  {
   "cell_type": "code",
   "execution_count": null,
   "metadata": {
    "id": "Y48naDFh_qRL"
   },
   "outputs": [],
   "source": []
  },
  {
   "cell_type": "markdown",
   "metadata": {
    "id": "r4Hu1zOb_qRL"
   },
   "source": [
    "### Independent Investigation\n",
    "\n",
    "Using the bar coupon example as motivation, you are to explore one of the other coupon groups and try to determine the characteristics of passengers who accept the coupons.  "
   ]
  },
  {
   "cell_type": "code",
   "execution_count": null,
   "metadata": {
    "id": "0c71cQhu_qRL"
   },
   "outputs": [],
   "source": []
  },
  {
   "cell_type": "code",
   "execution_count": null,
   "metadata": {
    "id": "QEsBkvIN_qRL"
   },
   "outputs": [],
   "source": []
  },
  {
   "cell_type": "code",
   "execution_count": null,
   "metadata": {
    "id": "fTC2WGE3_qRL"
   },
   "outputs": [],
   "source": []
  },
  {
   "cell_type": "code",
   "execution_count": null,
   "metadata": {
    "id": "RrqUWn7d_qRL"
   },
   "outputs": [],
   "source": []
  },
  {
   "cell_type": "code",
   "execution_count": null,
   "metadata": {
    "id": "_oykf8YP_qRL"
   },
   "outputs": [],
   "source": []
  }
 ],
 "metadata": {
  "colab": {
   "provenance": []
  },
  "kernelspec": {
   "display_name": "base",
   "language": "python",
   "name": "python3"
  },
  "language_info": {
   "codemirror_mode": {
    "name": "ipython",
    "version": 3
   },
   "file_extension": ".py",
   "mimetype": "text/x-python",
   "name": "python",
   "nbconvert_exporter": "python",
   "pygments_lexer": "ipython3",
   "version": "3.12.7"
  }
 },
 "nbformat": 4,
 "nbformat_minor": 0
}
